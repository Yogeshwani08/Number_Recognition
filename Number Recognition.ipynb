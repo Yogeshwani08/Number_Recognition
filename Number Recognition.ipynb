{
 "cells": [
  {
   "cell_type": "code",
   "execution_count": 8,
   "id": "6f94f8e7",
   "metadata": {},
   "outputs": [],
   "source": [
    "import matplotlib.pyplot as plt\n",
    "%matplotlib inline\n",
    "import pylab as pl\n",
    "from sklearn.datasets import load_digits\n",
    "from sklearn.model_selection import train_test_split\n",
    "from sklearn import svm"
   ]
  },
  {
   "cell_type": "code",
   "execution_count": 9,
   "id": "1ae2ca20",
   "metadata": {},
   "outputs": [],
   "source": [
    "#from sklearn.datasets import load_digits\n",
    "digits = load_digits()"
   ]
  },
  {
   "cell_type": "markdown",
   "id": "52ab55d6",
   "metadata": {},
   "source": [
    "# Display first sample digit from datad=set as image"
   ]
  },
  {
   "cell_type": "code",
   "execution_count": 10,
   "id": "f3337de7",
   "metadata": {},
   "outputs": [
    {
     "data": {
      "text/plain": [
       "<Figure size 640x480 with 0 Axes>"
      ]
     },
     "metadata": {},
     "output_type": "display_data"
    },
    {
     "data": {
      "image/png": "[encoded data removed]",
      "text/plain": [
       "<Figure size 480x480 with 1 Axes>"
      ]
     },
     "metadata": {},
     "output_type": "display_data"
    }
   ],
   "source": [
    "#import pylob as pl\n",
    "pl.gray()\n",
    "pl.matshow(digits.images[0])\n",
    "pl.show()"
   ]
  },
  {
   "cell_type": "markdown",
   "id": "aea08309",
   "metadata": {},
   "source": [
    "# See to the pixel values of above sample digit"
   ]
  },
  {
   "cell_type": "code",
   "execution_count": 11,
   "id": "096dc1a2",
   "metadata": {},
   "outputs": [
    {
     "data": {
      "text/plain": [
       "array([[ 0.,  0.,  5., 13.,  9.,  1.,  0.,  0.],\n",
       "       [ 0.,  0., 13., 15., 10., 15.,  5.,  0.],\n",
       "       [ 0.,  3., 15.,  2.,  0., 11.,  8.,  0.],\n",
       "       [ 0.,  4., 12.,  0.,  0.,  8.,  8.,  0.],\n",
       "       [ 0.,  5.,  8.,  0.,  0.,  9.,  8.,  0.],\n",
       "       [ 0.,  4., 11.,  0.,  1., 12.,  7.,  0.],\n",
       "       [ 0.,  2., 14.,  5., 10., 12.,  0.,  0.],\n",
       "       [ 0.,  0.,  6., 13., 10.,  0.,  0.,  0.]])"
      ]
     },
     "execution_count": 11,
     "metadata": {},
     "output_type": "execute_result"
    }
   ],
   "source": [
    "digits.images[0]"
   ]
  },
  {
   "cell_type": "markdown",
   "id": "b7d4f9ac",
   "metadata": {},
   "source": [
    "# Display 15 sample digits from dataset along with labels"
   ]
  },
  {
   "cell_type": "code",
   "execution_count": 12,
   "id": "79a6ee58",
   "metadata": {},
   "outputs": [
    {
     "data": {
      "image/png": "[encoded data removed]",
      "text/plain": [
       "<Figure size 500x500 with 15 Axes>"
      ]
     },
     "metadata": {},
     "output_type": "display_data"
    }
   ],
   "source": [
    "images_and_labels = list(zip(digits.images, digits.target))\n",
    "plt.figure(figsize=(5,5))\n",
    "for index, (image,label) in enumerate(images_and_labels[:15]):\n",
    "    plt.subplot(3, 5, index + 1)\n",
    "    plt.axis('off')\n",
    "    plt.imshow(image, cmap=plt.cm.gray_r, interpolation='nearest')\n",
    "    plt.title('%i' % label)"
   ]
  },
  {
   "cell_type": "markdown",
   "id": "15bf60b7",
   "metadata": {},
   "source": [
    "# Know the dataset - check for number of digits available in dataset\n"
   ]
  },
  {
   "cell_type": "code",
   "execution_count": 13,
   "id": "bace4d8e",
   "metadata": {},
   "outputs": [
    {
     "name": "stdout",
     "output_type": "stream",
     "text": [
      "1797\n"
     ]
    }
   ],
   "source": [
    "#Define variables\n",
    "n_samples = len(digits.images)\n",
    "print(n_samples)"
   ]
  },
  {
   "cell_type": "markdown",
   "id": "dcd29bbd",
   "metadata": {},
   "source": [
    "# Divide the dataset into input features(pixel) and output target label "
   ]
  },
  {
   "cell_type": "code",
   "execution_count": 16,
   "id": "5c908407",
   "metadata": {},
   "outputs": [],
   "source": [
    "X = digits.images.reshape((n_samples, -1)) #Input features are pixel\n",
    "y = digits.target #Output are the target lables"
   ]
  },
  {
   "cell_type": "markdown",
   "id": "e5627e14",
   "metadata": {},
   "source": [
    "# Divide the dataset into training and testing sets by randomly splitting the imges"
   ]
  },
  {
   "cell_type": "code",
   "execution_count": 17,
   "id": "acae6489",
   "metadata": {},
   "outputs": [
    {
     "name": "stdout",
     "output_type": "stream",
     "text": [
      "(1347, 64)\n",
      "(450, 64)\n"
     ]
    }
   ],
   "source": [
    "#from sklearn.model_selection import train_test_split\n",
    "\n",
    "X_train, X_test, y_train, y_test = train_test_split(X, y)\n",
    "print(X_train.shape)\n",
    "print(X_test.shape)"
   ]
  },
  {
   "cell_type": "markdown",
   "id": "f0675639",
   "metadata": {},
   "source": [
    "# Define Support Vector Classifier Model with linear kernel"
   ]
  },
  {
   "cell_type": "code",
   "execution_count": 19,
   "id": "3779193a",
   "metadata": {},
   "outputs": [],
   "source": [
    "#from sklearn import svm\n",
    "model_linear = svm.SVC(kernel='linear' , degree=3, gamma='scale')\n",
    "model_linear.fit(X_train, y_train)\n",
    "\n",
    "#predict\n",
    "y_pred = model_linear.predict(X_test)"
   ]
  },
  {
   "cell_type": "markdown",
   "id": "643df18a",
   "metadata": {},
   "source": [
    "# Evaluate the model using accuracy"
   ]
  },
  {
   "cell_type": "code",
   "execution_count": 20,
   "id": "4a4a588e",
   "metadata": {},
   "outputs": [
    {
     "data": {
      "text/plain": [
       "0.9755555555555555"
      ]
     },
     "execution_count": 20,
     "metadata": {},
     "output_type": "execute_result"
    }
   ],
   "source": [
    "model_linear.score(X_test, y_test)"
   ]
  },
  {
   "cell_type": "markdown",
   "id": "1533c5ff",
   "metadata": {},
   "source": [
    "# compare by creating another model with Kernel types RBF and evaluate for accuracy"
   ]
  },
  {
   "cell_type": "code",
   "execution_count": 21,
   "id": "e91c7db9",
   "metadata": {},
   "outputs": [
    {
     "data": {
      "text/plain": [
       "0.9888888888888889"
      ]
     },
     "execution_count": 21,
     "metadata": {},
     "output_type": "execute_result"
    }
   ],
   "source": [
    "model_RBF = svm.SVC(degree=3, gamma='scale', kernel='rbf')\n",
    "model_RBF.fit(X_train, y_train)\n",
    "#predict\n",
    "y_predz = model_RBF.predict(X_test)\n",
    "model_RBF.score(X_test, y_test)"
   ]
  },
  {
   "cell_type": "markdown",
   "id": "d1950f11",
   "metadata": {},
   "source": [
    "# Check for prediction from dataset"
   ]
  },
  {
   "cell_type": "code",
   "execution_count": 25,
   "id": "a067f166",
   "metadata": {},
   "outputs": [
    {
     "name": "stdout",
     "output_type": "stream",
     "text": [
      "              precision    recall  f1-score   support\n",
      "\n",
      "           0       1.00      1.00      1.00        55\n",
      "           1       0.96      1.00      0.98        47\n",
      "           2       1.00      1.00      1.00        43\n",
      "           3       1.00      0.94      0.97        34\n",
      "           4       0.96      0.98      0.97        53\n",
      "           5       1.00      0.96      0.98        45\n",
      "           6       1.00      1.00      1.00        40\n",
      "           7       0.95      0.95      0.95        44\n",
      "           8       0.97      0.93      0.95        42\n",
      "           9       0.92      0.98      0.95        47\n",
      "\n",
      "    accuracy                           0.98       450\n",
      "   macro avg       0.98      0.97      0.98       450\n",
      "weighted avg       0.98      0.98      0.98       450\n",
      "\n"
     ]
    }
   ],
   "source": [
    "from sklearn.metrics import classification_report\n",
    "predictions = model_linear.predict(X_test)\n",
    "print(classification_report(y_test, predictions))\n"
   ]
  },
  {
   "cell_type": "code",
   "execution_count": null,
   "id": "781f0a17",
   "metadata": {},
   "outputs": [],
   "source": []
  }
 ],
 "metadata": {
  "kernelspec": {
   "display_name": "Python 3 (ipykernel)",
   "language": "python",
   "name": "python3"
  },
  "language_info": {
   "codemirror_mode": {
    "name": "ipython",
    "version": 3
   },
   "file_extension": ".py",
   "mimetype": "text/x-python",
   "name": "python",
   "nbconvert_exporter": "python",
   "pygments_lexer": "ipython3",
   "version": "3.11.4"
  }
 },
 "nbformat": 4,
 "nbformat_minor": 5
}
